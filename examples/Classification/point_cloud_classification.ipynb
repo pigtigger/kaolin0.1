{
 "cells": [
  {
   "cell_type": "markdown",
   "metadata": {},
   "source": [
    "# Train a Pointcloud classifier\n",
    "\n",
    "> **Skill level:** _Beginner_\n",
    "\n",
    "Kaolin makes 3D deep learning easy, by providing all the _hard_/_tricky_ parts of coding up a 3D DL application. To get a feel for how easy training classifiers on 3D data has become, here's a quick demo.\n",
    "\n",
    "In this tutorial, we will train a _pointcloud_ classifier, in about five lines of code!\n",
    "\n",
    "For those who are new to pointclouds, here's how they look like.\n",
    "\n",
    "<p align=\"center\">\n",
    "    <img src=\"../../assets/airplane_points.png\">\n",
    "</p>\n",
    "\n",
    "We will use the `ModelNet10` dataset for the remainder of this tutorial. The remainder of this tutorial will be broken down into the following components.\n",
    "\n",
    "- [Downloading ModelNet10](#downloading-modelnet10)\n",
    "- [DataLoading](#dataloading)\n",
    "- [Training the pointcloud classifier](#training-the-pointcloud-classifier)\n",
    "- [Bells and whistles](#bells-and-whistles)\n",
    "\n",
    "## Downloading ModelNet10\n",
    "\n",
    "Note that the ModelNet10 dataset is provided ONLY for the convenience of academic research. Should you choose to download it, you must adhere to the original terms and copyright notice of the dataset. For convenience, we reproduce the original copyright from the dataset creators.\n",
    "\n",
    "```\n",
    "**Copyright**\n",
    "\n",
    "All CAD models are downloaded from the Internet and the original authors hold the copyright of the CAD models. The label of the data was obtained by us via Amazon Mechanical Turk service and it is provided freely. This dataset is provided for the convenience of academic research only.\n",
    "```\n",
    "\n",
    "The ModelNet10 (10-class subset) dataset is available on the [Princeton ModelNet page](https://modelnet.cs.princeton.edu/). On this page, navigate to the ModelNet10 download link to obtain the dataset. We assume that it is unzipped and extracted to a location `MODELNET_DIRECTORY`.\n",
    "\n",
    "## Warm-up\n",
    "\n",
    "Before all the fun-stuff begins, let us import all necessary functions from `kaolin` and `torch`. A bit more on what the following modules do will become clear as we progress."
   ]
  },
  {
   "cell_type": "code",
   "execution_count": 1,
   "metadata": {},
   "outputs": [
    {
     "name": "stdout",
     "output_type": "stream",
     "text": [
      "Warning: unable to import datasets/nusc:\n",
      "   No module named 'nuscenes'\n",
      "Warning: unable to import datasets/nusc:\n",
      "   None\n"
     ]
    },
    {
     "name": "stderr",
     "output_type": "stream",
     "text": [
      "Traceback (most recent call last):\n",
      "  File \"/home/jlafleche/Projects/kaolin_gitlab/kaolin/datasets/__init__.py\", line 11, in <module>\n",
      "    from .nusc import NuscDetection\n",
      "  File \"/home/jlafleche/Projects/kaolin_gitlab/kaolin/datasets/nusc.py\", line 21, in <module>\n",
      "    from nuscenes.utils.geometry_utils import transform_matrix\n",
      "ModuleNotFoundError: No module named 'nuscenes'\n"
     ]
    }
   ],
   "source": [
    "import torch\n",
    "from torch.utils.data import DataLoader\n",
    "import kaolin as kal\n",
    "from kaolin import ClassificationEngine\n",
    "from kaolin.datasets import ModelNet\n",
    "from kaolin.models.PointNet import PointNetClassifier\n",
    "import kaolin.transforms as tfs\n",
    "from torchvision.transforms import Lambda\n",
    "\n",
    "from tqdm.notebook import tqdm"
   ]
  },
  {
   "cell_type": "markdown",
   "metadata": {},
   "source": [
    "## Dataloading\n",
    "\n",
    "Kaolin provides convenience functions to load popular 3D datasets (of course, ModelNet10). Assuming you have [installed Kaolin](../../README.md#installation-and-usage), fire up your favourite python interpreter, and execute the following commands.\n",
    "\n",
    "To start, we will define a few important parameters:"
   ]
  },
  {
   "cell_type": "code",
   "execution_count": 2,
   "metadata": {},
   "outputs": [],
   "source": [
    "modelnet_path = 'path/to/ModelNet10/'\n",
    "categories = ['chair', 'sofa']\n",
    "num_points = 1024\n",
    "device = 'cuda'\n",
    "workers = 8\n",
    "\n",
    "# Training parameters\n",
    "batch_size = 12\n",
    "learning_rate = 1e-3\n",
    "epochs = 10"
   ]
  },
  {
   "cell_type": "markdown",
   "metadata": {},
   "source": [
    "The `model_path` variable will hold the path to the ModelNet10 dataset. We will use the `categories` variable to specify which classes we want to learn to classify. `num_points` is the number of points we will sample from the mesh when transforming it to a pointcloud. Finally, we will disable multiprocessing and memory pinning if we are using CUDA for our transform operations."
   ]
  },
  {
   "cell_type": "code",
   "execution_count": 3,
   "metadata": {},
   "outputs": [],
   "source": [
    "def to_device(inp):\n",
    "    inp.to(device)\n",
    "    return inp\n",
    "\n",
    "transform = tfs.Compose([\n",
    "    to_device,\n",
    "    tfs.TriangleMeshToPointCloud(num_samples=num_points),\n",
    "    tfs.NormalizePointCloud()\n",
    "])\n",
    "\n",
    "num_workers = 0 if device == 'cuda' else workers\n",
    "pin_memory = device != 'cuda'"
   ]
  },
  {
   "cell_type": "markdown",
   "metadata": {},
   "source": [
    "This command defines a `transform` that first converts a mesh representation to a pointcloud and then _normalizes_ it to be centered at the origin, and have a standard deviation of 1. Much like images, 3D data such as pointclouds need to be normalized for better classification performance."
   ]
  },
  {
   "cell_type": "code",
   "execution_count": 4,
   "metadata": {},
   "outputs": [],
   "source": [
    "train_loader = DataLoader(ModelNet(modelnet_path, categories=categories,\n",
    "                                   split='train', transform=transform),\n",
    "                          batch_size=batch_size, shuffle=True, \n",
    "                          num_workers=num_workers, pin_memory=pin_memory)"
   ]
  },
  {
   "cell_type": "markdown",
   "metadata": {},
   "source": [
    "Phew, that was slightly long! But here's what it does. It creates a `DataLoader` object for the `ModelNet10` dataset. In particular, we are interested in loading only the `chair` and `sofa` categories. The `split='train'` argument indicates that we're loading the 'train' split. The `rep='pointcloud'` loads up meshes and converts them into pointclouds. The `transform=norm` applies a normalizing transform to each pointcloud. The other parameters are fairly easy to decipher.\n",
    "\n",
    "Similarly, the validation dataset can be loaded up as follows."
   ]
  },
  {
   "cell_type": "code",
   "execution_count": 5,
   "metadata": {},
   "outputs": [],
   "source": [
    "val_loader = DataLoader(ModelNet(modelnet_path, categories=categories,\n",
    "                                 split='test',transform=transform),\n",
    "                        batch_size=batch_size, num_workers=num_workers,\n",
    "                        pin_memory=pin_memory)"
   ]
  },
  {
   "cell_type": "markdown",
   "metadata": {},
   "source": [
    "## Setting up our model, optimizer and loss criterion"
   ]
  },
  {
   "cell_type": "code",
   "execution_count": 6,
   "metadata": {},
   "outputs": [],
   "source": [
    "model = PointNetClassifier(num_classes=len(categories)).to(device)\n",
    "optimizer = torch.optim.Adam(model.parameters(), lr=learning_rate)\n",
    "criterion = torch.nn.CrossEntropyLoss()"
   ]
  },
  {
   "cell_type": "markdown",
   "metadata": {},
   "source": [
    "## Training the pointcloud classifier\n",
    "\n",
    "The following line of code will train and validate a _PointNet_ classifier, which is probably the simplest of pointcloud neural architectures."
   ]
  },
  {
   "cell_type": "code",
   "execution_count": 7,
   "metadata": {
    "scrolled": true
   },
   "outputs": [
    {
     "name": "stdout",
     "output_type": "stream",
     "text": [
      "----------\n",
      "Epoch: 0\n",
      "----------\n"
     ]
    },
    {
     "data": {
      "application/vnd.jupyter.widget-view+json": {
       "model_id": "a3f3a90ad3f3479895c4bae060705a12",
       "version_major": 2,
       "version_minor": 0
      },
      "text/plain": [
       "HBox(children=(FloatProgress(value=0.0, max=131.0), HTML(value='')))"
      ]
     },
     "metadata": {},
     "output_type": "display_data"
    },
    {
     "name": "stdout",
     "output_type": "stream",
     "text": [
      "\n",
      "Train loss: 0.049577866860875106\n",
      "Train accuracy: 0.984520782496183\n"
     ]
    },
    {
     "data": {
      "application/vnd.jupyter.widget-view+json": {
       "model_id": "02db1d1aac7e4ebe83cb53ea000dfb23",
       "version_major": 2,
       "version_minor": 0
      },
      "text/plain": [
       "HBox(children=(FloatProgress(value=0.0, max=17.0), HTML(value='')))"
      ]
     },
     "metadata": {},
     "output_type": "display_data"
    },
    {
     "name": "stdout",
     "output_type": "stream",
     "text": [
      "\n",
      "Val loss: 1.996058419638988\n",
      "Val accuracy: 0.5759803937638507\n",
      "----------\n",
      "Epoch: 1\n",
      "----------\n"
     ]
    },
    {
     "data": {
      "application/vnd.jupyter.widget-view+json": {
       "model_id": "c38e1ca72be84d90b9c3aa9b88274265",
       "version_major": 2,
       "version_minor": 0
      },
      "text/plain": [
       "HBox(children=(FloatProgress(value=0.0, max=131.0), HTML(value='')))"
      ]
     },
     "metadata": {},
     "output_type": "display_data"
    },
    {
     "name": "stdout",
     "output_type": "stream",
     "text": [
      "\n",
      "Train loss: 0.025925380295766375\n",
      "Train accuracy: 0.9910941492510206\n"
     ]
    },
    {
     "data": {
      "application/vnd.jupyter.widget-view+json": {
       "model_id": "8bc067bb815d49d5b165d48fc7344205",
       "version_major": 2,
       "version_minor": 0
      },
      "text/plain": [
       "HBox(children=(FloatProgress(value=0.0, max=17.0), HTML(value='')))"
      ]
     },
     "metadata": {},
     "output_type": "display_data"
    },
    {
     "name": "stdout",
     "output_type": "stream",
     "text": [
      "\n",
      "Val loss: 0.02229202354689786\n",
      "Val accuracy: 0.9852941211532144\n",
      "----------\n",
      "Epoch: 2\n",
      "----------\n"
     ]
    },
    {
     "data": {
      "application/vnd.jupyter.widget-view+json": {
       "model_id": "b36996c2d3a34e8ba3ee805545c5ca44",
       "version_major": 2,
       "version_minor": 0
      },
      "text/plain": [
       "HBox(children=(FloatProgress(value=0.0, max=131.0), HTML(value='')))"
      ]
     },
     "metadata": {},
     "output_type": "display_data"
    },
    {
     "name": "stdout",
     "output_type": "stream",
     "text": [
      "\n",
      "Train loss: 0.026611668057295403\n",
      "Train accuracy: 0.990458017542162\n"
     ]
    },
    {
     "data": {
      "application/vnd.jupyter.widget-view+json": {
       "model_id": "d16b84bbc28547a4be53e82812a292fb",
       "version_major": 2,
       "version_minor": 0
      },
      "text/plain": [
       "HBox(children=(FloatProgress(value=0.0, max=17.0), HTML(value='')))"
      ]
     },
     "metadata": {},
     "output_type": "display_data"
    },
    {
     "name": "stdout",
     "output_type": "stream",
     "text": [
      "\n",
      "Val loss: 0.010962185896192644\n",
      "Val accuracy: 0.9950980403844047\n",
      "----------\n",
      "Epoch: 3\n",
      "----------\n"
     ]
    },
    {
     "data": {
      "application/vnd.jupyter.widget-view+json": {
       "model_id": "363eefada7ee406584e440e010036aaa",
       "version_major": 2,
       "version_minor": 0
      },
      "text/plain": [
       "HBox(children=(FloatProgress(value=0.0, max=131.0), HTML(value='')))"
      ]
     },
     "metadata": {},
     "output_type": "display_data"
    },
    {
     "name": "stdout",
     "output_type": "stream",
     "text": [
      "\n",
      "Train loss: 0.0489288965736219\n",
      "Train accuracy: 0.9910941487960233\n"
     ]
    },
    {
     "data": {
      "application/vnd.jupyter.widget-view+json": {
       "model_id": "f11f453414584bc7be7ac9542a709cba",
       "version_major": 2,
       "version_minor": 0
      },
      "text/plain": [
       "HBox(children=(FloatProgress(value=0.0, max=17.0), HTML(value='')))"
      ]
     },
     "metadata": {},
     "output_type": "display_data"
    },
    {
     "name": "stdout",
     "output_type": "stream",
     "text": [
      "\n",
      "Val loss: 0.007010548280531485\n",
      "Val accuracy: 0.9950980403844047\n",
      "----------\n",
      "Epoch: 4\n",
      "----------\n"
     ]
    },
    {
     "data": {
      "application/vnd.jupyter.widget-view+json": {
       "model_id": "f0792536c5894eb0ae3d87df005a0313",
       "version_major": 2,
       "version_minor": 0
      },
      "text/plain": [
       "HBox(children=(FloatProgress(value=0.0, max=131.0), HTML(value='')))"
      ]
     },
     "metadata": {},
     "output_type": "display_data"
    },
    {
     "name": "stdout",
     "output_type": "stream",
     "text": [
      "\n",
      "Train loss: 0.026334123992323804\n",
      "Train accuracy: 0.9942748100702999\n"
     ]
    },
    {
     "data": {
      "application/vnd.jupyter.widget-view+json": {
       "model_id": "f7a0ab5695254cbe9b6c6dc5d53538d4",
       "version_major": 2,
       "version_minor": 0
      },
      "text/plain": [
       "HBox(children=(FloatProgress(value=0.0, max=17.0), HTML(value='')))"
      ]
     },
     "metadata": {},
     "output_type": "display_data"
    },
    {
     "name": "stdout",
     "output_type": "stream",
     "text": [
      "\n",
      "Val loss: 0.03581363566028064\n",
      "Val accuracy: 0.9852941211532144\n",
      "----------\n",
      "Epoch: 5\n",
      "----------\n"
     ]
    },
    {
     "data": {
      "application/vnd.jupyter.widget-view+json": {
       "model_id": "fc5b27cc785349b882bf9dc92923435d",
       "version_major": 2,
       "version_minor": 0
      },
      "text/plain": [
       "HBox(children=(FloatProgress(value=0.0, max=131.0), HTML(value='')))"
      ]
     },
     "metadata": {},
     "output_type": "display_data"
    },
    {
     "name": "stdout",
     "output_type": "stream",
     "text": [
      "\n",
      "Train loss: 0.017674359473073678\n",
      "Train accuracy: 0.9968193391807206\n"
     ]
    },
    {
     "data": {
      "application/vnd.jupyter.widget-view+json": {
       "model_id": "afc47f0ad23a4570b945df7d5652f021",
       "version_major": 2,
       "version_minor": 0
      },
      "text/plain": [
       "HBox(children=(FloatProgress(value=0.0, max=17.0), HTML(value='')))"
      ]
     },
     "metadata": {},
     "output_type": "display_data"
    },
    {
     "name": "stdout",
     "output_type": "stream",
     "text": [
      "\n",
      "Val loss: 0.0739082695879193\n",
      "Val accuracy: 0.9852941211532144\n",
      "----------\n",
      "Epoch: 6\n",
      "----------\n"
     ]
    },
    {
     "data": {
      "application/vnd.jupyter.widget-view+json": {
       "model_id": "91e459c056d34a8383decb0b519a3424",
       "version_major": 2,
       "version_minor": 0
      },
      "text/plain": [
       "HBox(children=(FloatProgress(value=0.0, max=131.0), HTML(value='')))"
      ]
     },
     "metadata": {},
     "output_type": "display_data"
    },
    {
     "name": "stdout",
     "output_type": "stream",
     "text": [
      "\n",
      "Train loss: 0.03026853118948052\n",
      "Train accuracy: 0.9917302818698738\n"
     ]
    },
    {
     "data": {
      "application/vnd.jupyter.widget-view+json": {
       "model_id": "8807d7557c004a7c9f4b53d457749f34",
       "version_major": 2,
       "version_minor": 0
      },
      "text/plain": [
       "HBox(children=(FloatProgress(value=0.0, max=17.0), HTML(value='')))"
      ]
     },
     "metadata": {},
     "output_type": "display_data"
    },
    {
     "name": "stdout",
     "output_type": "stream",
     "text": [
      "\n",
      "Val loss: 0.01342605816299671\n",
      "Val accuracy: 0.9950980403844047\n",
      "----------\n",
      "Epoch: 7\n",
      "----------\n"
     ]
    },
    {
     "data": {
      "application/vnd.jupyter.widget-view+json": {
       "model_id": "2b08e650d1a54c9aa38093bf250ddd5f",
       "version_major": 2,
       "version_minor": 0
      },
      "text/plain": [
       "HBox(children=(FloatProgress(value=0.0, max=131.0), HTML(value='')))"
      ]
     },
     "metadata": {},
     "output_type": "display_data"
    },
    {
     "name": "stdout",
     "output_type": "stream",
     "text": [
      "\n",
      "Train loss: 0.05086674511309123\n",
      "Train accuracy: 0.9923664131237351\n"
     ]
    },
    {
     "data": {
      "application/vnd.jupyter.widget-view+json": {
       "model_id": "eb60fcb742864501be0dc15b2338ec2e",
       "version_major": 2,
       "version_minor": 0
      },
      "text/plain": [
       "HBox(children=(FloatProgress(value=0.0, max=17.0), HTML(value='')))"
      ]
     },
     "metadata": {},
     "output_type": "display_data"
    },
    {
     "name": "stdout",
     "output_type": "stream",
     "text": [
      "\n",
      "Val loss: 0.0715277231133336\n",
      "Val accuracy: 0.975490201922024\n",
      "----------\n",
      "Epoch: 8\n",
      "----------\n"
     ]
    },
    {
     "data": {
      "application/vnd.jupyter.widget-view+json": {
       "model_id": "13520318a9eb41d3a4dfe3acdefbe8c4",
       "version_major": 2,
       "version_minor": 0
      },
      "text/plain": [
       "HBox(children=(FloatProgress(value=0.0, max=131.0), HTML(value='')))"
      ]
     },
     "metadata": {},
     "output_type": "display_data"
    },
    {
     "name": "stdout",
     "output_type": "stream",
     "text": [
      "\n",
      "Train loss: 0.026940815879666524\n",
      "Train accuracy: 0.9917302814148764\n"
     ]
    },
    {
     "data": {
      "application/vnd.jupyter.widget-view+json": {
       "model_id": "1113cbb87427472db3a961ed91ff8100",
       "version_major": 2,
       "version_minor": 0
      },
      "text/plain": [
       "HBox(children=(FloatProgress(value=0.0, max=17.0), HTML(value='')))"
      ]
     },
     "metadata": {},
     "output_type": "display_data"
    },
    {
     "name": "stdout",
     "output_type": "stream",
     "text": [
      "\n",
      "Val loss: 0.009962925690000275\n",
      "Val accuracy: 1.0\n",
      "----------\n",
      "Epoch: 9\n",
      "----------\n"
     ]
    },
    {
     "data": {
      "application/vnd.jupyter.widget-view+json": {
       "model_id": "1588b1fe2fec40e6a39667ac453acced",
       "version_major": 2,
       "version_minor": 0
      },
      "text/plain": [
       "HBox(children=(FloatProgress(value=0.0, max=131.0), HTML(value='')))"
      ]
     },
     "metadata": {},
     "output_type": "display_data"
    },
    {
     "name": "stdout",
     "output_type": "stream",
     "text": [
      "\n",
      "Train loss: 0.011543766358538037\n",
      "Train accuracy: 0.995547074853009\n"
     ]
    },
    {
     "data": {
      "application/vnd.jupyter.widget-view+json": {
       "model_id": "1f383ca287094465aff6071fe8dce8f0",
       "version_major": 2,
       "version_minor": 0
      },
      "text/plain": [
       "HBox(children=(FloatProgress(value=0.0, max=17.0), HTML(value='')))"
      ]
     },
     "metadata": {},
     "output_type": "display_data"
    },
    {
     "name": "stdout",
     "output_type": "stream",
     "text": [
      "\n",
      "Val loss: 0.0008934929042772958\n",
      "Val accuracy: 1.0\n"
     ]
    }
   ],
   "source": [
    "for e in range(epochs):\n",
    "    print(f'{\"\":-<10}\\nEpoch: {e}\\n{\"\":-<10}')\n",
    "\n",
    "    train_loss = 0.\n",
    "    train_accuracy = 0.\n",
    "\n",
    "    model.train()\n",
    "    for batch_idx, (data, attributes) in enumerate(tqdm(train_loader)):\n",
    "        category = attributes['category'].to(device)\n",
    "        pred = model(data)\n",
    "        loss = criterion(pred, category.view(-1))\n",
    "        train_loss += loss.item()\n",
    "        loss.backward()\n",
    "        optimizer.step()\n",
    "        optimizer.zero_grad()\n",
    "\n",
    "        # Compute accuracy\n",
    "        pred_label = torch.argmax(pred, dim=1)\n",
    "        train_accuracy += torch.mean((pred_label == category.view(-1)).float()).item()\n",
    "\n",
    "    print('Train loss:', train_loss / len(train_loader))\n",
    "    print('Train accuracy:', train_accuracy / len(train_loader))\n",
    "\n",
    "    val_loss = 0.\n",
    "    val_accuracy = 0.\n",
    "\n",
    "    model.eval()\n",
    "    with torch.no_grad():\n",
    "        for batch_idx, (data, attributes) in enumerate(tqdm(val_loader)):\n",
    "            category = attributes['category'].to(device)\n",
    "            pred = model(data)\n",
    "            loss = criterion(pred, category.view(-1))\n",
    "            val_loss += loss.item()\n",
    "\n",
    "            # Compute accuracy\n",
    "            pred_label = torch.argmax(pred, dim=1)\n",
    "            val_accuracy += torch.mean((pred_label == category.view(-1)).float()).item()\n",
    "\n",
    "    print('Val loss:', val_loss / len(val_loader))\n",
    "    print('Val accuracy:', val_accuracy / len(val_loader))"
   ]
  },
  {
   "cell_type": "markdown",
   "metadata": {},
   "source": [
    "## Visualizing the results\n",
    "\n",
    "We will create a new dataloder which will load the same data as our previous val_loader but with shuffling, and take a sample batch."
   ]
  },
  {
   "cell_type": "code",
   "execution_count": 8,
   "metadata": {},
   "outputs": [],
   "source": [
    "test_loader = DataLoader(ModelNet(modelnet_path, categories=categories,\n",
    "                                  split='test',transform=transform),\n",
    "                        shuffle=True, batch_size=15)\n",
    "\n",
    "data, attr = next(iter(test_loader))\n",
    "data = data.to('cuda')\n",
    "labels = attr['category'].to('cuda')\n",
    "preds = model(data)\n",
    "pred_labels = torch.max(preds, axis=1)[1]"
   ]
  },
  {
   "cell_type": "markdown",
   "metadata": {},
   "source": [
    "Next, we setup a plot to visualize the pointcloud, groundtruth label and our prediction using a small utility function. Here we've also colour-coded the results - green for correct and red for incorrect."
   ]
  },
  {
   "cell_type": "code",
   "execution_count": 9,
   "metadata": {
    "scrolled": false
   },
   "outputs": [
    {
     "data": {
      "application/javascript": [
       "/* Put everything inside the global mpl namespace */\n",
       "window.mpl = {};\n",
       "\n",
       "\n",
       "mpl.get_websocket_type = function() {\n",
       "    if (typeof(WebSocket) !== 'undefined') {\n",
       "        return WebSocket;\n",
       "    } else if (typeof(MozWebSocket) !== 'undefined') {\n",
       "        return MozWebSocket;\n",
       "    } else {\n",
       "        alert('Your browser does not have WebSocket support.' +\n",
       "              'Please try Chrome, Safari or Firefox ≥ 6. ' +\n",
       "              'Firefox 4 and 5 are also supported but you ' +\n",
       "              'have to enable WebSockets in about:config.');\n",
       "    };\n",
       "}\n",
       "\n",
       "mpl.figure = function(figure_id, websocket, ondownload, parent_element) {\n",
       "    this.id = figure_id;\n",
       "\n",
       "    this.ws = websocket;\n",
       "\n",
       "    this.supports_binary = (this.ws.binaryType != undefined);\n",
       "\n",
       "    if (!this.supports_binary) {\n",
       "        var warnings = document.getElementById(\"mpl-warnings\");\n",
       "        if (warnings) {\n",
       "            warnings.style.display = 'block';\n",
       "            warnings.textContent = (\n",
       "                \"This browser does not support binary websocket messages. \" +\n",
       "                    \"Performance may be slow.\");\n",
       "        }\n",
       "    }\n",
       "\n",
       "    this.imageObj = new Image();\n",
       "\n",
       "    this.context = undefined;\n",
       "    this.message = undefined;\n",
       "    this.canvas = undefined;\n",
       "    this.rubberband_canvas = undefined;\n",
       "    this.rubberband_context = undefined;\n",
       "    this.format_dropdown = undefined;\n",
       "\n",
       "    this.image_mode = 'full';\n",
       "\n",
       "    this.root = $('<div/>');\n",
       "    this._root_extra_style(this.root)\n",
       "    this.root.attr('style', 'display: inline-block');\n",
       "\n",
       "    $(parent_element).append(this.root);\n",
       "\n",
       "    this._init_header(this);\n",
       "    this._init_canvas(this);\n",
       "    this._init_toolbar(this);\n",
       "\n",
       "    var fig = this;\n",
       "\n",
       "    this.waiting = false;\n",
       "\n",
       "    this.ws.onopen =  function () {\n",
       "            fig.send_message(\"supports_binary\", {value: fig.supports_binary});\n",
       "            fig.send_message(\"send_image_mode\", {});\n",
       "            if (mpl.ratio != 1) {\n",
       "                fig.send_message(\"set_dpi_ratio\", {'dpi_ratio': mpl.ratio});\n",
       "            }\n",
       "            fig.send_message(\"refresh\", {});\n",
       "        }\n",
       "\n",
       "    this.imageObj.onload = function() {\n",
       "            if (fig.image_mode == 'full') {\n",
       "                // Full images could contain transparency (where diff images\n",
       "                // almost always do), so we need to clear the canvas so that\n",
       "                // there is no ghosting.\n",
       "                fig.context.clearRect(0, 0, fig.canvas.width, fig.canvas.height);\n",
       "            }\n",
       "            fig.context.drawImage(fig.imageObj, 0, 0);\n",
       "        };\n",
       "\n",
       "    this.imageObj.onunload = function() {\n",
       "        fig.ws.close();\n",
       "    }\n",
       "\n",
       "    this.ws.onmessage = this._make_on_message_function(this);\n",
       "\n",
       "    this.ondownload = ondownload;\n",
       "}\n",
       "\n",
       "mpl.figure.prototype._init_header = function() {\n",
       "    var titlebar = $(\n",
       "        '<div class=\"ui-dialog-titlebar ui-widget-header ui-corner-all ' +\n",
       "        'ui-helper-clearfix\"/>');\n",
       "    var titletext = $(\n",
       "        '<div class=\"ui-dialog-title\" style=\"width: 100%; ' +\n",
       "        'text-align: center; padding: 3px;\"/>');\n",
       "    titlebar.append(titletext)\n",
       "    this.root.append(titlebar);\n",
       "    this.header = titletext[0];\n",
       "}\n",
       "\n",
       "\n",
       "\n",
       "mpl.figure.prototype._canvas_extra_style = function(canvas_div) {\n",
       "\n",
       "}\n",
       "\n",
       "\n",
       "mpl.figure.prototype._root_extra_style = function(canvas_div) {\n",
       "\n",
       "}\n",
       "\n",
       "mpl.figure.prototype._init_canvas = function() {\n",
       "    var fig = this;\n",
       "\n",
       "    var canvas_div = $('<div/>');\n",
       "\n",
       "    canvas_div.attr('style', 'position: relative; clear: both; outline: 0');\n",
       "\n",
       "    function canvas_keyboard_event(event) {\n",
       "        return fig.key_event(event, event['data']);\n",
       "    }\n",
       "\n",
       "    canvas_div.keydown('key_press', canvas_keyboard_event);\n",
       "    canvas_div.keyup('key_release', canvas_keyboard_event);\n",
       "    this.canvas_div = canvas_div\n",
       "    this._canvas_extra_style(canvas_div)\n",
       "    this.root.append(canvas_div);\n",
       "\n",
       "    var canvas = $('<canvas/>');\n",
       "    canvas.addClass('mpl-canvas');\n",
       "    canvas.attr('style', \"left: 0; top: 0; z-index: 0; outline: 0\")\n",
       "\n",
       "    this.canvas = canvas[0];\n",
       "    this.context = canvas[0].getContext(\"2d\");\n",
       "\n",
       "    var backingStore = this.context.backingStorePixelRatio ||\n",
       "\tthis.context.webkitBackingStorePixelRatio ||\n",
       "\tthis.context.mozBackingStorePixelRatio ||\n",
       "\tthis.context.msBackingStorePixelRatio ||\n",
       "\tthis.context.oBackingStorePixelRatio ||\n",
       "\tthis.context.backingStorePixelRatio || 1;\n",
       "\n",
       "    mpl.ratio = (window.devicePixelRatio || 1) / backingStore;\n",
       "\n",
       "    var rubberband = $('<canvas/>');\n",
       "    rubberband.attr('style', \"position: absolute; left: 0; top: 0; z-index: 1;\")\n",
       "\n",
       "    var pass_mouse_events = true;\n",
       "\n",
       "    canvas_div.resizable({\n",
       "        start: function(event, ui) {\n",
       "            pass_mouse_events = false;\n",
       "        },\n",
       "        resize: function(event, ui) {\n",
       "            fig.request_resize(ui.size.width, ui.size.height);\n",
       "        },\n",
       "        stop: function(event, ui) {\n",
       "            pass_mouse_events = true;\n",
       "            fig.request_resize(ui.size.width, ui.size.height);\n",
       "        },\n",
       "    });\n",
       "\n",
       "    function mouse_event_fn(event) {\n",
       "        if (pass_mouse_events)\n",
       "            return fig.mouse_event(event, event['data']);\n",
       "    }\n",
       "\n",
       "    rubberband.mousedown('button_press', mouse_event_fn);\n",
       "    rubberband.mouseup('button_release', mouse_event_fn);\n",
       "    // Throttle sequential mouse events to 1 every 20ms.\n",
       "    rubberband.mousemove('motion_notify', mouse_event_fn);\n",
       "\n",
       "    rubberband.mouseenter('figure_enter', mouse_event_fn);\n",
       "    rubberband.mouseleave('figure_leave', mouse_event_fn);\n",
       "\n",
       "    canvas_div.on(\"wheel\", function (event) {\n",
       "        event = event.originalEvent;\n",
       "        event['data'] = 'scroll'\n",
       "        if (event.deltaY < 0) {\n",
       "            event.step = 1;\n",
       "        } else {\n",
       "            event.step = -1;\n",
       "        }\n",
       "        mouse_event_fn(event);\n",
       "    });\n",
       "\n",
       "    canvas_div.append(canvas);\n",
       "    canvas_div.append(rubberband);\n",
       "\n",
       "    this.rubberband = rubberband;\n",
       "    this.rubberband_canvas = rubberband[0];\n",
       "    this.rubberband_context = rubberband[0].getContext(\"2d\");\n",
       "    this.rubberband_context.strokeStyle = \"#000000\";\n",
       "\n",
       "    this._resize_canvas = function(width, height) {\n",
       "        // Keep the size of the canvas, canvas container, and rubber band\n",
       "        // canvas in synch.\n",
       "        canvas_div.css('width', width)\n",
       "        canvas_div.css('height', height)\n",
       "\n",
       "        canvas.attr('width', width * mpl.ratio);\n",
       "        canvas.attr('height', height * mpl.ratio);\n",
       "        canvas.attr('style', 'width: ' + width + 'px; height: ' + height + 'px;');\n",
       "\n",
       "        rubberband.attr('width', width);\n",
       "        rubberband.attr('height', height);\n",
       "    }\n",
       "\n",
       "    // Set the figure to an initial 600x600px, this will subsequently be updated\n",
       "    // upon first draw.\n",
       "    this._resize_canvas(600, 600);\n",
       "\n",
       "    // Disable right mouse context menu.\n",
       "    $(this.rubberband_canvas).bind(\"contextmenu\",function(e){\n",
       "        return false;\n",
       "    });\n",
       "\n",
       "    function set_focus () {\n",
       "        canvas.focus();\n",
       "        canvas_div.focus();\n",
       "    }\n",
       "\n",
       "    window.setTimeout(set_focus, 100);\n",
       "}\n",
       "\n",
       "mpl.figure.prototype._init_toolbar = function() {\n",
       "    var fig = this;\n",
       "\n",
       "    var nav_element = $('<div/>')\n",
       "    nav_element.attr('style', 'width: 100%');\n",
       "    this.root.append(nav_element);\n",
       "\n",
       "    // Define a callback function for later on.\n",
       "    function toolbar_event(event) {\n",
       "        return fig.toolbar_button_onclick(event['data']);\n",
       "    }\n",
       "    function toolbar_mouse_event(event) {\n",
       "        return fig.toolbar_button_onmouseover(event['data']);\n",
       "    }\n",
       "\n",
       "    for(var toolbar_ind in mpl.toolbar_items) {\n",
       "        var name = mpl.toolbar_items[toolbar_ind][0];\n",
       "        var tooltip = mpl.toolbar_items[toolbar_ind][1];\n",
       "        var image = mpl.toolbar_items[toolbar_ind][2];\n",
       "        var method_name = mpl.toolbar_items[toolbar_ind][3];\n",
       "\n",
       "        if (!name) {\n",
       "            // put a spacer in here.\n",
       "            continue;\n",
       "        }\n",
       "        var button = $('<button/>');\n",
       "        button.addClass('ui-button ui-widget ui-state-default ui-corner-all ' +\n",
       "                        'ui-button-icon-only');\n",
       "        button.attr('role', 'button');\n",
       "        button.attr('aria-disabled', 'false');\n",
       "        button.click(method_name, toolbar_event);\n",
       "        button.mouseover(tooltip, toolbar_mouse_event);\n",
       "\n",
       "        var icon_img = $('<span/>');\n",
       "        icon_img.addClass('ui-button-icon-primary ui-icon');\n",
       "        icon_img.addClass(image);\n",
       "        icon_img.addClass('ui-corner-all');\n",
       "\n",
       "        var tooltip_span = $('<span/>');\n",
       "        tooltip_span.addClass('ui-button-text');\n",
       "        tooltip_span.html(tooltip);\n",
       "\n",
       "        button.append(icon_img);\n",
       "        button.append(tooltip_span);\n",
       "\n",
       "        nav_element.append(button);\n",
       "    }\n",
       "\n",
       "    var fmt_picker_span = $('<span/>');\n",
       "\n",
       "    var fmt_picker = $('<select/>');\n",
       "    fmt_picker.addClass('mpl-toolbar-option ui-widget ui-widget-content');\n",
       "    fmt_picker_span.append(fmt_picker);\n",
       "    nav_element.append(fmt_picker_span);\n",
       "    this.format_dropdown = fmt_picker[0];\n",
       "\n",
       "    for (var ind in mpl.extensions) {\n",
       "        var fmt = mpl.extensions[ind];\n",
       "        var option = $(\n",
       "            '<option/>', {selected: fmt === mpl.default_extension}).html(fmt);\n",
       "        fmt_picker.append(option)\n",
       "    }\n",
       "\n",
       "    // Add hover states to the ui-buttons\n",
       "    $( \".ui-button\" ).hover(\n",
       "        function() { $(this).addClass(\"ui-state-hover\");},\n",
       "        function() { $(this).removeClass(\"ui-state-hover\");}\n",
       "    );\n",
       "\n",
       "    var status_bar = $('<span class=\"mpl-message\"/>');\n",
       "    nav_element.append(status_bar);\n",
       "    this.message = status_bar[0];\n",
       "}\n",
       "\n",
       "mpl.figure.prototype.request_resize = function(x_pixels, y_pixels) {\n",
       "    // Request matplotlib to resize the figure. Matplotlib will then trigger a resize in the client,\n",
       "    // which will in turn request a refresh of the image.\n",
       "    this.send_message('resize', {'width': x_pixels, 'height': y_pixels});\n",
       "}\n",
       "\n",
       "mpl.figure.prototype.send_message = function(type, properties) {\n",
       "    properties['type'] = type;\n",
       "    properties['figure_id'] = this.id;\n",
       "    this.ws.send(JSON.stringify(properties));\n",
       "}\n",
       "\n",
       "mpl.figure.prototype.send_draw_message = function() {\n",
       "    if (!this.waiting) {\n",
       "        this.waiting = true;\n",
       "        this.ws.send(JSON.stringify({type: \"draw\", figure_id: this.id}));\n",
       "    }\n",
       "}\n",
       "\n",
       "\n",
       "mpl.figure.prototype.handle_save = function(fig, msg) {\n",
       "    var format_dropdown = fig.format_dropdown;\n",
       "    var format = format_dropdown.options[format_dropdown.selectedIndex].value;\n",
       "    fig.ondownload(fig, format);\n",
       "}\n",
       "\n",
       "\n",
       "mpl.figure.prototype.handle_resize = function(fig, msg) {\n",
       "    var size = msg['size'];\n",
       "    if (size[0] != fig.canvas.width || size[1] != fig.canvas.height) {\n",
       "        fig._resize_canvas(size[0], size[1]);\n",
       "        fig.send_message(\"refresh\", {});\n",
       "    };\n",
       "}\n",
       "\n",
       "mpl.figure.prototype.handle_rubberband = function(fig, msg) {\n",
       "    var x0 = msg['x0'] / mpl.ratio;\n",
       "    var y0 = (fig.canvas.height - msg['y0']) / mpl.ratio;\n",
       "    var x1 = msg['x1'] / mpl.ratio;\n",
       "    var y1 = (fig.canvas.height - msg['y1']) / mpl.ratio;\n",
       "    x0 = Math.floor(x0) + 0.5;\n",
       "    y0 = Math.floor(y0) + 0.5;\n",
       "    x1 = Math.floor(x1) + 0.5;\n",
       "    y1 = Math.floor(y1) + 0.5;\n",
       "    var min_x = Math.min(x0, x1);\n",
       "    var min_y = Math.min(y0, y1);\n",
       "    var width = Math.abs(x1 - x0);\n",
       "    var height = Math.abs(y1 - y0);\n",
       "\n",
       "    fig.rubberband_context.clearRect(\n",
       "        0, 0, fig.canvas.width, fig.canvas.height);\n",
       "\n",
       "    fig.rubberband_context.strokeRect(min_x, min_y, width, height);\n",
       "}\n",
       "\n",
       "mpl.figure.prototype.handle_figure_label = function(fig, msg) {\n",
       "    // Updates the figure title.\n",
       "    fig.header.textContent = msg['label'];\n",
       "}\n",
       "\n",
       "mpl.figure.prototype.handle_cursor = function(fig, msg) {\n",
       "    var cursor = msg['cursor'];\n",
       "    switch(cursor)\n",
       "    {\n",
       "    case 0:\n",
       "        cursor = 'pointer';\n",
       "        break;\n",
       "    case 1:\n",
       "        cursor = 'default';\n",
       "        break;\n",
       "    case 2:\n",
       "        cursor = 'crosshair';\n",
       "        break;\n",
       "    case 3:\n",
       "        cursor = 'move';\n",
       "        break;\n",
       "    }\n",
       "    fig.rubberband_canvas.style.cursor = cursor;\n",
       "}\n",
       "\n",
       "mpl.figure.prototype.handle_message = function(fig, msg) {\n",
       "    fig.message.textContent = msg['message'];\n",
       "}\n",
       "\n",
       "mpl.figure.prototype.handle_draw = function(fig, msg) {\n",
       "    // Request the server to send over a new figure.\n",
       "    fig.send_draw_message();\n",
       "}\n",
       "\n",
       "mpl.figure.prototype.handle_image_mode = function(fig, msg) {\n",
       "    fig.image_mode = msg['mode'];\n",
       "}\n",
       "\n",
       "mpl.figure.prototype.updated_canvas_event = function() {\n",
       "    // Called whenever the canvas gets updated.\n",
       "    this.send_message(\"ack\", {});\n",
       "}\n",
       "\n",
       "// A function to construct a web socket function for onmessage handling.\n",
       "// Called in the figure constructor.\n",
       "mpl.figure.prototype._make_on_message_function = function(fig) {\n",
       "    return function socket_on_message(evt) {\n",
       "        if (evt.data instanceof Blob) {\n",
       "            /* FIXME: We get \"Resource interpreted as Image but\n",
       "             * transferred with MIME type text/plain:\" errors on\n",
       "             * Chrome.  But how to set the MIME type?  It doesn't seem\n",
       "             * to be part of the websocket stream */\n",
       "            evt.data.type = \"image/png\";\n",
       "\n",
       "            /* Free the memory for the previous frames */\n",
       "            if (fig.imageObj.src) {\n",
       "                (window.URL || window.webkitURL).revokeObjectURL(\n",
       "                    fig.imageObj.src);\n",
       "            }\n",
       "\n",
       "            fig.imageObj.src = (window.URL || window.webkitURL).createObjectURL(\n",
       "                evt.data);\n",
       "            fig.updated_canvas_event();\n",
       "            fig.waiting = false;\n",
       "            return;\n",
       "        }\n",
       "        else if (typeof evt.data === 'string' && evt.data.slice(0, 21) == \"data:image/png;base64\") {\n",
       "            fig.imageObj.src = evt.data;\n",
       "            fig.updated_canvas_event();\n",
       "            fig.waiting = false;\n",
       "            return;\n",
       "        }\n",
       "\n",
       "        var msg = JSON.parse(evt.data);\n",
       "        var msg_type = msg['type'];\n",
       "\n",
       "        // Call the  \"handle_{type}\" callback, which takes\n",
       "        // the figure and JSON message as its only arguments.\n",
       "        try {\n",
       "            var callback = fig[\"handle_\" + msg_type];\n",
       "        } catch (e) {\n",
       "            console.log(\"No handler for the '\" + msg_type + \"' message type: \", msg);\n",
       "            return;\n",
       "        }\n",
       "\n",
       "        if (callback) {\n",
       "            try {\n",
       "                // console.log(\"Handling '\" + msg_type + \"' message: \", msg);\n",
       "                callback(fig, msg);\n",
       "            } catch (e) {\n",
       "                console.log(\"Exception inside the 'handler_\" + msg_type + \"' callback:\", e, e.stack, msg);\n",
       "            }\n",
       "        }\n",
       "    };\n",
       "}\n",
       "\n",
       "// from http://stackoverflow.com/questions/1114465/getting-mouse-location-in-canvas\n",
       "mpl.findpos = function(e) {\n",
       "    //this section is from http://www.quirksmode.org/js/events_properties.html\n",
       "    var targ;\n",
       "    if (!e)\n",
       "        e = window.event;\n",
       "    if (e.target)\n",
       "        targ = e.target;\n",
       "    else if (e.srcElement)\n",
       "        targ = e.srcElement;\n",
       "    if (targ.nodeType == 3) // defeat Safari bug\n",
       "        targ = targ.parentNode;\n",
       "\n",
       "    // jQuery normalizes the pageX and pageY\n",
       "    // pageX,Y are the mouse positions relative to the document\n",
       "    // offset() returns the position of the element relative to the document\n",
       "    var x = e.pageX - $(targ).offset().left;\n",
       "    var y = e.pageY - $(targ).offset().top;\n",
       "\n",
       "    return {\"x\": x, \"y\": y};\n",
       "};\n",
       "\n",
       "/*\n",
       " * return a copy of an object with only non-object keys\n",
       " * we need this to avoid circular references\n",
       " * http://stackoverflow.com/a/24161582/3208463\n",
       " */\n",
       "function simpleKeys (original) {\n",
       "  return Object.keys(original).reduce(function (obj, key) {\n",
       "    if (typeof original[key] !== 'object')\n",
       "        obj[key] = original[key]\n",
       "    return obj;\n",
       "  }, {});\n",
       "}\n",
       "\n",
       "mpl.figure.prototype.mouse_event = function(event, name) {\n",
       "    var canvas_pos = mpl.findpos(event)\n",
       "\n",
       "    if (name === 'button_press')\n",
       "    {\n",
       "        this.canvas.focus();\n",
       "        this.canvas_div.focus();\n",
       "    }\n",
       "\n",
       "    var x = canvas_pos.x * mpl.ratio;\n",
       "    var y = canvas_pos.y * mpl.ratio;\n",
       "\n",
       "    this.send_message(name, {x: x, y: y, button: event.button,\n",
       "                             step: event.step,\n",
       "                             guiEvent: simpleKeys(event)});\n",
       "\n",
       "    /* This prevents the web browser from automatically changing to\n",
       "     * the text insertion cursor when the button is pressed.  We want\n",
       "     * to control all of the cursor setting manually through the\n",
       "     * 'cursor' event from matplotlib */\n",
       "    event.preventDefault();\n",
       "    return false;\n",
       "}\n",
       "\n",
       "mpl.figure.prototype._key_event_extra = function(event, name) {\n",
       "    // Handle any extra behaviour associated with a key event\n",
       "}\n",
       "\n",
       "mpl.figure.prototype.key_event = function(event, name) {\n",
       "\n",
       "    // Prevent repeat events\n",
       "    if (name == 'key_press')\n",
       "    {\n",
       "        if (event.which === this._key)\n",
       "            return;\n",
       "        else\n",
       "            this._key = event.which;\n",
       "    }\n",
       "    if (name == 'key_release')\n",
       "        this._key = null;\n",
       "\n",
       "    var value = '';\n",
       "    if (event.ctrlKey && event.which != 17)\n",
       "        value += \"ctrl+\";\n",
       "    if (event.altKey && event.which != 18)\n",
       "        value += \"alt+\";\n",
       "    if (event.shiftKey && event.which != 16)\n",
       "        value += \"shift+\";\n",
       "\n",
       "    value += 'k';\n",
       "    value += event.which.toString();\n",
       "\n",
       "    this._key_event_extra(event, name);\n",
       "\n",
       "    this.send_message(name, {key: value,\n",
       "                             guiEvent: simpleKeys(event)});\n",
       "    return false;\n",
       "}\n",
       "\n",
       "mpl.figure.prototype.toolbar_button_onclick = function(name) {\n",
       "    if (name == 'download') {\n",
       "        this.handle_save(this, null);\n",
       "    } else {\n",
       "        this.send_message(\"toolbar_button\", {name: name});\n",
       "    }\n",
       "};\n",
       "\n",
       "mpl.figure.prototype.toolbar_button_onmouseover = function(tooltip) {\n",
       "    this.message.textContent = tooltip;\n",
       "};\n",
       "mpl.toolbar_items = [[\"Home\", \"Reset original view\", \"fa fa-home icon-home\", \"home\"], [\"Back\", \"Back to previous view\", \"fa fa-arrow-left icon-arrow-left\", \"back\"], [\"Forward\", \"Forward to next view\", \"fa fa-arrow-right icon-arrow-right\", \"forward\"], [\"\", \"\", \"\", \"\"], [\"Pan\", \"Pan axes with left mouse, zoom with right\", \"fa fa-arrows icon-move\", \"pan\"], [\"Zoom\", \"Zoom to rectangle\", \"fa fa-square-o icon-check-empty\", \"zoom\"], [\"\", \"\", \"\", \"\"], [\"Download\", \"Download plot\", \"fa fa-floppy-o icon-save\", \"download\"]];\n",
       "\n",
       "mpl.extensions = [\"eps\", \"pdf\", \"png\", \"ps\", \"raw\", \"svg\"];\n",
       "\n",
       "mpl.default_extension = \"png\";var comm_websocket_adapter = function(comm) {\n",
       "    // Create a \"websocket\"-like object which calls the given IPython comm\n",
       "    // object with the appropriate methods. Currently this is a non binary\n",
       "    // socket, so there is still some room for performance tuning.\n",
       "    var ws = {};\n",
       "\n",
       "    ws.close = function() {\n",
       "        comm.close()\n",
       "    };\n",
       "    ws.send = function(m) {\n",
       "        //console.log('sending', m);\n",
       "        comm.send(m);\n",
       "    };\n",
       "    // Register the callback with on_msg.\n",
       "    comm.on_msg(function(msg) {\n",
       "        //console.log('receiving', msg['content']['data'], msg);\n",
       "        // Pass the mpl event to the overridden (by mpl) onmessage function.\n",
       "        ws.onmessage(msg['content']['data'])\n",
       "    });\n",
       "    return ws;\n",
       "}\n",
       "\n",
       "mpl.mpl_figure_comm = function(comm, msg) {\n",
       "    // This is the function which gets called when the mpl process\n",
       "    // starts-up an IPython Comm through the \"matplotlib\" channel.\n",
       "\n",
       "    var id = msg.content.data.id;\n",
       "    // Get hold of the div created by the display call when the Comm\n",
       "    // socket was opened in Python.\n",
       "    var element = $(\"#\" + id);\n",
       "    var ws_proxy = comm_websocket_adapter(comm)\n",
       "\n",
       "    function ondownload(figure, format) {\n",
       "        window.open(figure.imageObj.src);\n",
       "    }\n",
       "\n",
       "    var fig = new mpl.figure(id, ws_proxy,\n",
       "                           ondownload,\n",
       "                           element.get(0));\n",
       "\n",
       "    // Call onopen now - mpl needs it, as it is assuming we've passed it a real\n",
       "    // web socket which is closed, not our websocket->open comm proxy.\n",
       "    ws_proxy.onopen();\n",
       "\n",
       "    fig.parent_element = element.get(0);\n",
       "    fig.cell_info = mpl.find_output_cell(\"<div id='\" + id + \"'></div>\");\n",
       "    if (!fig.cell_info) {\n",
       "        console.error(\"Failed to find cell for figure\", id, fig);\n",
       "        return;\n",
       "    }\n",
       "\n",
       "    var output_index = fig.cell_info[2]\n",
       "    var cell = fig.cell_info[0];\n",
       "\n",
       "};\n",
       "\n",
       "mpl.figure.prototype.handle_close = function(fig, msg) {\n",
       "    var width = fig.canvas.width/mpl.ratio\n",
       "    fig.root.unbind('remove')\n",
       "\n",
       "    // Update the output cell to use the data from the current canvas.\n",
       "    fig.push_to_output();\n",
       "    var dataURL = fig.canvas.toDataURL();\n",
       "    // Re-enable the keyboard manager in IPython - without this line, in FF,\n",
       "    // the notebook keyboard shortcuts fail.\n",
       "    IPython.keyboard_manager.enable()\n",
       "    $(fig.parent_element).html('<img src=\"' + dataURL + '\" width=\"' + width + '\">');\n",
       "    fig.close_ws(fig, msg);\n",
       "}\n",
       "\n",
       "mpl.figure.prototype.close_ws = function(fig, msg){\n",
       "    fig.send_message('closing', msg);\n",
       "    // fig.ws.close()\n",
       "}\n",
       "\n",
       "mpl.figure.prototype.push_to_output = function(remove_interactive) {\n",
       "    // Turn the data on the canvas into data in the output cell.\n",
       "    var width = this.canvas.width/mpl.ratio\n",
       "    var dataURL = this.canvas.toDataURL();\n",
       "    this.cell_info[1]['text/html'] = '<img src=\"' + dataURL + '\" width=\"' + width + '\">';\n",
       "}\n",
       "\n",
       "mpl.figure.prototype.updated_canvas_event = function() {\n",
       "    // Tell IPython that the notebook contents must change.\n",
       "    IPython.notebook.set_dirty(true);\n",
       "    this.send_message(\"ack\", {});\n",
       "    var fig = this;\n",
       "    // Wait a second, then push the new image to the DOM so\n",
       "    // that it is saved nicely (might be nice to debounce this).\n",
       "    setTimeout(function () { fig.push_to_output() }, 1000);\n",
       "}\n",
       "\n",
       "mpl.figure.prototype._init_toolbar = function() {\n",
       "    var fig = this;\n",
       "\n",
       "    var nav_element = $('<div/>')\n",
       "    nav_element.attr('style', 'width: 100%');\n",
       "    this.root.append(nav_element);\n",
       "\n",
       "    // Define a callback function for later on.\n",
       "    function toolbar_event(event) {\n",
       "        return fig.toolbar_button_onclick(event['data']);\n",
       "    }\n",
       "    function toolbar_mouse_event(event) {\n",
       "        return fig.toolbar_button_onmouseover(event['data']);\n",
       "    }\n",
       "\n",
       "    for(var toolbar_ind in mpl.toolbar_items){\n",
       "        var name = mpl.toolbar_items[toolbar_ind][0];\n",
       "        var tooltip = mpl.toolbar_items[toolbar_ind][1];\n",
       "        var image = mpl.toolbar_items[toolbar_ind][2];\n",
       "        var method_name = mpl.toolbar_items[toolbar_ind][3];\n",
       "\n",
       "        if (!name) { continue; };\n",
       "\n",
       "        var button = $('<button class=\"btn btn-default\" href=\"#\" title=\"' + name + '\"><i class=\"fa ' + image + ' fa-lg\"></i></button>');\n",
       "        button.click(method_name, toolbar_event);\n",
       "        button.mouseover(tooltip, toolbar_mouse_event);\n",
       "        nav_element.append(button);\n",
       "    }\n",
       "\n",
       "    // Add the status bar.\n",
       "    var status_bar = $('<span class=\"mpl-message\" style=\"text-align:right; float: right;\"/>');\n",
       "    nav_element.append(status_bar);\n",
       "    this.message = status_bar[0];\n",
       "\n",
       "    // Add the close button to the window.\n",
       "    var buttongrp = $('<div class=\"btn-group inline pull-right\"></div>');\n",
       "    var button = $('<button class=\"btn btn-mini btn-primary\" href=\"#\" title=\"Stop Interaction\"><i class=\"fa fa-power-off icon-remove icon-large\"></i></button>');\n",
       "    button.click(function (evt) { fig.handle_close(fig, {}); } );\n",
       "    button.mouseover('Stop Interaction', toolbar_mouse_event);\n",
       "    buttongrp.append(button);\n",
       "    var titlebar = this.root.find($('.ui-dialog-titlebar'));\n",
       "    titlebar.prepend(buttongrp);\n",
       "}\n",
       "\n",
       "mpl.figure.prototype._root_extra_style = function(el){\n",
       "    var fig = this\n",
       "    el.on(\"remove\", function(){\n",
       "\tfig.close_ws(fig, {});\n",
       "    });\n",
       "}\n",
       "\n",
       "mpl.figure.prototype._canvas_extra_style = function(el){\n",
       "    // this is important to make the div 'focusable\n",
       "    el.attr('tabindex', 0)\n",
       "    // reach out to IPython and tell the keyboard manager to turn it's self\n",
       "    // off when our div gets focus\n",
       "\n",
       "    // location in version 3\n",
       "    if (IPython.notebook.keyboard_manager) {\n",
       "        IPython.notebook.keyboard_manager.register_events(el);\n",
       "    }\n",
       "    else {\n",
       "        // location in version 2\n",
       "        IPython.keyboard_manager.register_events(el);\n",
       "    }\n",
       "\n",
       "}\n",
       "\n",
       "mpl.figure.prototype._key_event_extra = function(event, name) {\n",
       "    var manager = IPython.notebook.keyboard_manager;\n",
       "    if (!manager)\n",
       "        manager = IPython.keyboard_manager;\n",
       "\n",
       "    // Check for shift+enter\n",
       "    if (event.shiftKey && event.which == 13) {\n",
       "        this.canvas_div.blur();\n",
       "        event.shiftKey = false;\n",
       "        // Send a \"J\" for go to next cell\n",
       "        event.which = 74;\n",
       "        event.keyCode = 74;\n",
       "        manager.command_mode();\n",
       "        manager.handle_keydown(event);\n",
       "    }\n",
       "}\n",
       "\n",
       "mpl.figure.prototype.handle_save = function(fig, msg) {\n",
       "    fig.ondownload(fig, null);\n",
       "}\n",
       "\n",
       "\n",
       "mpl.find_output_cell = function(html_output) {\n",
       "    // Return the cell and output element which can be found *uniquely* in the notebook.\n",
       "    // Note - this is a bit hacky, but it is done because the \"notebook_saving.Notebook\"\n",
       "    // IPython event is triggered only after the cells have been serialised, which for\n",
       "    // our purposes (turning an active figure into a static one), is too late.\n",
       "    var cells = IPython.notebook.get_cells();\n",
       "    var ncells = cells.length;\n",
       "    for (var i=0; i<ncells; i++) {\n",
       "        var cell = cells[i];\n",
       "        if (cell.cell_type === 'code'){\n",
       "            for (var j=0; j<cell.output_area.outputs.length; j++) {\n",
       "                var data = cell.output_area.outputs[j];\n",
       "                if (data.data) {\n",
       "                    // IPython >= 3 moved mimebundle to data attribute of output\n",
       "                    data = data.data;\n",
       "                }\n",
       "                if (data['text/html'] == html_output) {\n",
       "                    return [cell, data, j];\n",
       "                }\n",
       "            }\n",
       "        }\n",
       "    }\n",
       "}\n",
       "\n",
       "// Register the function which deals with the matplotlib target/channel.\n",
       "// The kernel may be null if the page has been refreshed.\n",
       "if (IPython.notebook.kernel != null) {\n",
       "    IPython.notebook.kernel.comm_manager.register_target('matplotlib', mpl.mpl_figure_comm);\n",
       "}\n"
      ],
      "text/plain": [
       "<IPython.core.display.Javascript object>"
      ]
     },
     "metadata": {},
     "output_type": "display_data"
    },
    {
     "data": {
      "text/html": [
       "<img src=\"data:image/png;base64,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\" width=\"800\">"
      ],
      "text/plain": [
       "<IPython.core.display.HTML object>"
      ]
     },
     "metadata": {},
     "output_type": "display_data"
    }
   ],
   "source": [
    "from utils import visualize_batch\n",
    "\n",
    "%matplotlib notebook\n",
    "\n",
    "visualize_batch(data, pred_labels, labels, categories)"
   ]
  },
  {
   "cell_type": "markdown",
   "metadata": {},
   "source": [
    "Looks like we have a working classifier!"
   ]
  },
  {
   "cell_type": "markdown",
   "metadata": {},
   "source": [
    "That's it, you've trained your first 3D classifier on pointcloud data using Kaolin!!\n",
    "\n",
    "## Bells and whistles\n",
    "\n",
    "You can train on other categories by simply changing the `categories` argument passed to the `ModelNet10` dataset object. For example, you can add a `bed` class by running\n",
    "```python\n",
    "dataset = ModelNet('/path/to/ModelNet10', categories=['chair', 'sofa', 'bed'],\n",
    "                   split='train', rep='pointcloud', transform=norm, device='cuda:0')\n",
    "```\n",
    "\n",
    "You can also configure the parameters of the `PointNetClassifier` to your liking. For a more detailed explanation, refer to the documentation of the `PointNetClassifier` class.\n",
    "\n",
    "Furthermore, you can experiment with different configurations of learning rate, optimizer, training duration, and more."
   ]
  },
  {
   "cell_type": "code",
   "execution_count": null,
   "metadata": {},
   "outputs": [],
   "source": []
  }
 ],
 "metadata": {
  "kernelspec": {
   "display_name": "kaolin-gitlab",
   "language": "python",
   "name": "kaolin-gitlab"
  },
  "language_info": {
   "codemirror_mode": {
    "name": "ipython",
    "version": 3
   },
   "file_extension": ".py",
   "mimetype": "text/x-python",
   "name": "python",
   "nbconvert_exporter": "python",
   "pygments_lexer": "ipython3",
   "version": "3.6.10"
  }
 },
 "nbformat": 4,
 "nbformat_minor": 2
}
